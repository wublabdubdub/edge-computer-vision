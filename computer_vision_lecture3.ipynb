{
  "nbformat": 4,
  "nbformat_minor": 0,
  "metadata": {
    "colab": {
      "name": "computer-vision-lecture3.ipynb",
      "provenance": [],
      "include_colab_link": true
    },
    "kernelspec": {
      "name": "python3",
      "display_name": "Python 3"
    }
  },
  "cells": [
    {
      "cell_type": "markdown",
      "metadata": {
        "id": "view-in-github",
        "colab_type": "text"
      },
      "source": [
        "<a href=\"https://colab.research.google.com/github/noahgift/edge-computer-vision/blob/master/computer_vision_lecture3.ipynb\" target=\"_parent\"><img src=\"https://colab.research.google.com/assets/colab-badge.svg\" alt=\"Open In Colab\"/></a>"
      ]
    },
    {
      "cell_type": "markdown",
      "metadata": {
        "id": "tyTba8mim6JO",
        "colab_type": "text"
      },
      "source": [
        "# Computer Vision APIs"
      ]
    },
    {
      "cell_type": "markdown",
      "metadata": {
        "id": "9xJ_WPXHm-WH",
        "colab_type": "text"
      },
      "source": [
        "## Introduction to AWS"
      ]
    },
    {
      "cell_type": "markdown",
      "metadata": {
        "id": "xfsPSN08nD2k",
        "colab_type": "text"
      },
      "source": [
        "### AWS Cloud9"
      ]
    },
    {
      "cell_type": "markdown",
      "metadata": {
        "id": "EHY85UUUr01W",
        "colab_type": "text"
      },
      "source": [
        "1.  Provision Instance\n",
        "2.  Overview of features\n",
        "3.  Configure environment\n",
        "    * Checkout source code\n",
        "    * Launch spot deep learning instance\n",
        "\n",
        "4.  Write simple scripts for computer vision APIs\n",
        "\n",
        "* https://boto3.amazonaws.com/v1/documentation/api/latest/reference/services/rekognition.html#Rekognition.Client.detect_labels\n",
        "* https://boto3.amazonaws.com/v1/documentation/api/latest/reference/services/rekognition.html#client\n",
        "* https://gist.github.com/alexcasalboni/0f21a1889f09760f8981b643326730ff\n",
        "\n",
        "\n",
        "5.  Build Continuous Integration System\n",
        "6.  Build Lambda Function\n",
        "7.  Deploy Lambda Functions\n"
      ]
    },
    {
      "cell_type": "markdown",
      "metadata": {
        "id": "AgMPCz64nGWj",
        "colab_type": "text"
      },
      "source": [
        "### AWS Sagemaker"
      ]
    },
    {
      "cell_type": "markdown",
      "metadata": {
        "id": "NGvu6rWLnJi3",
        "colab_type": "text"
      },
      "source": [
        ""
      ]
    },
    {
      "cell_type": "markdown",
      "metadata": {
        "id": "AUJOh0nx6QEY",
        "colab_type": "text"
      },
      "source": [
        "### AWS DeepLense"
      ]
    },
    {
      "cell_type": "markdown",
      "metadata": {
        "id": "QbycCa7w6SXM",
        "colab_type": "text"
      },
      "source": [
        ""
      ]
    }
  ]
}