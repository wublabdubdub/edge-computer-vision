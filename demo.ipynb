{
  "nbformat": 4,
  "nbformat_minor": 0,
  "metadata": {
    "colab": {
      "name": "demo.ipynb",
      "provenance": [],
      "authorship_tag": "ABX9TyMf9pe0hQa3AcYaXcFVP5Kz",
      "include_colab_link": true
    },
    "kernelspec": {
      "name": "python3",
      "display_name": "Python 3"
    }
  },
  "cells": [
    {
      "cell_type": "markdown",
      "metadata": {
        "id": "view-in-github",
        "colab_type": "text"
      },
      "source": [
        "<a href=\"https://colab.research.google.com/github/noahgift/edge-computer-vision/blob/master/demo.ipynb\" target=\"_parent\"><img src=\"https://colab.research.google.com/assets/colab-badge.svg\" alt=\"Open In Colab\"/></a>"
      ]
    },
    {
      "cell_type": "markdown",
      "metadata": {
        "id": "Fe_tcDNV5bC1",
        "colab_type": "text"
      },
      "source": [
        "## Format Example"
      ]
    },
    {
      "cell_type": "markdown",
      "metadata": {
        "id": "tmoyApgG58gY",
        "colab_type": "text"
      },
      "source": [
        "![alt text](![Screen Shot 2020-06-05 at 7 53 13 PM](https://user-images.githubusercontent.com/58792/83930559-40917a00-a766-11ea-953e-fbd9133abcfc.png))"
      ]
    },
    {
      "cell_type": "code",
      "metadata": {
        "id": "WkgwXqvs4z5a",
        "colab_type": "code",
        "colab": {}
      },
      "source": [
        "def hello():\n",
        "    return \"hi there\"\n"
      ],
      "execution_count": 0,
      "outputs": []
    },
    {
      "cell_type": "code",
      "metadata": {
        "id": "zCigINCG47gz",
        "colab_type": "code",
        "colab": {
          "base_uri": "https://localhost:8080/",
          "height": 34
        },
        "outputId": "5f20f278-e12e-417f-82cb-eb09fdf3995f"
      },
      "source": [
        "hello()"
      ],
      "execution_count": 2,
      "outputs": [
        {
          "output_type": "execute_result",
          "data": {
            "text/plain": [
              "'hi there'"
            ]
          },
          "metadata": {
            "tags": []
          },
          "execution_count": 2
        }
      ]
    },
    {
      "cell_type": "code",
      "metadata": {
        "id": "xdrhYtzV48fP",
        "colab_type": "code",
        "colab": {}
      },
      "source": [
        ""
      ],
      "execution_count": 0,
      "outputs": []
    },
    {
      "cell_type": "markdown",
      "metadata": {
        "id": "6ysoEgp75fOD",
        "colab_type": "text"
      },
      "source": [
        "## Another Demo"
      ]
    },
    {
      "cell_type": "markdown",
      "metadata": {
        "id": "eUxXXpDk5hK9",
        "colab_type": "text"
      },
      "source": [
        "#### Nested level"
      ]
    },
    {
      "cell_type": "code",
      "metadata": {
        "id": "57Tp6M9C5gak",
        "colab_type": "code",
        "colab": {}
      },
      "source": [
        ""
      ],
      "execution_count": 0,
      "outputs": []
    }
  ]
}